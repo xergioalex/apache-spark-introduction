{
 "cells": [
  {
   "cell_type": "markdown",
   "metadata": {},
   "source": [
    "![RDD key pair](media/05.numeric_rdd.png)"
   ]
  },
  {
   "cell_type": "markdown",
   "metadata": {},
   "source": [
    "---\n",
    "# 04 - RDDs numéricos\n",
    "--------------\n",
    "\n",
    "Funciones de estadística descriptiva implementadas en Spark\n",
    "\n",
    "  Método              |  Descripción                       \n",
    "  ------------------- | ---------------------------------- \n",
    "  stats()             | Resumen de estadísticas            \n",
    "  mean()              | Media aritmética\n",
    "  sum(), max(), min() | Suma, máximo y mínimo\n",
    "  variance()          | Varianza de los elementos\n",
    "  sampleVariance()    | Varianza de una muestra\n",
    "  stdev()             | Desviación estándar\n",
    "  sampleStdev()       | Desviación estándar de una muestra\n",
    "  histogram()         | Histograma"
   ]
  },
  {
   "cell_type": "code",
   "execution_count": 1,
   "metadata": {},
   "outputs": [
    {
     "name": "stdout",
     "output_type": "stream",
     "text": [
      "Requirement already satisfied: pyspark in /home/xergioalex/Envs/tensorflow/lib/python3.5/site-packages\n",
      "Requirement already satisfied: py4j==0.10.7 in /home/xergioalex/Envs/tensorflow/lib/python3.5/site-packages (from pyspark)\n",
      "\u001b[33mYou are using pip version 9.0.1, however version 18.0 is available.\n",
      "You should consider upgrading via the 'pip install --upgrade pip' command.\u001b[0m\n"
     ]
    }
   ],
   "source": [
    "!pip install pyspark"
   ]
  },
  {
   "cell_type": "code",
   "execution_count": 2,
   "metadata": {},
   "outputs": [],
   "source": [
    "# Create apache spark context\n",
    "from pyspark import SparkContext\n",
    "sc = SparkContext(master=\"local\", appName=\"Mi app\")"
   ]
  },
  {
   "cell_type": "code",
   "execution_count": 3,
   "metadata": {},
   "outputs": [],
   "source": [
    "# Stop apache spark context\n",
    "sc.stop()"
   ]
  },
  {
   "cell_type": "markdown",
   "metadata": {},
   "source": [
    "## Obtener un resúmen de estadísticas"
   ]
  },
  {
   "cell_type": "code",
   "execution_count": 6,
   "metadata": {},
   "outputs": [
    {
     "name": "stdout",
     "output_type": "stream",
     "text": [
      "Resumen de estadísticas:\n",
      "(count: 10000, mean: 0.016565092702759247, stdev: 0.9906881314645754, max: 3.940276682933942, min: -3.9202054258986507)\n",
      "\n"
     ]
    }
   ],
   "source": [
    "# STATS\n",
    "\n",
    "import numpy as np\n",
    "\n",
    "# Un RDD con datos aleatorios de una distribución normal\n",
    "nrdd = sc.parallelize(np.random.normal(size=10000)).cache()\n",
    "\n",
    "# Resumen de estadísticas\n",
    "sts = nrdd.stats()\n",
    "\n",
    "print(\"Resumen de estadísticas:\\n{0}\\n\".format(sts))"
   ]
  },
  {
   "cell_type": "code",
   "execution_count": 8,
   "metadata": {},
   "outputs": [
    {
     "name": "stdout",
     "output_type": "stream",
     "text": [
      "Número de outliers: 25\n"
     ]
    }
   ],
   "source": [
    "# MEAN\n",
    "\n",
    "from math import fabs\n",
    "\n",
    "# Filtra outliers\n",
    "stddev = sts.stdev()\n",
    "avg = sts.mean()\n",
    "\n",
    "frdd = nrdd.filter(lambda x: fabs(x - avg) < 3*stddev).cache()\n",
    "\n",
    "print(\"Número de outliers: {0}\".format(sts.count() - frdd.count()))"
   ]
  },
  {
   "cell_type": "code",
   "execution_count": 18,
   "metadata": {},
   "outputs": [
    {
     "name": "stdout",
     "output_type": "stream",
     "text": [
      "x:  [-2.926630052775228, -2.336983793876538, -1.7473375349778482, -1.1576912760791582, -0.5680450171804683, 0.021601241718221864, 0.6112475006169116, 1.2008937595156013, 1.7905400184142914, 2.3801862773129816, 2.9698325362116718]\n",
      "y:  [69, 299, 846, 1553, 2176, 2273, 1599, 828, 274, 58]\n"
     ]
    },
    {
     "data": {
      "image/png": "[encoded data removed]",
      "text/plain": [
       "<matplotlib.figure.Figure at 0x7fb1265fbcc0>"
      ]
     },
     "metadata": {},
     "output_type": "display_data"
    }
   ],
   "source": [
    "import matplotlib.pyplot as plt; plt.rcdefaults()\n",
    "import matplotlib.pyplot as plt\n",
    "\n",
    "# Obtiene un histograma con 10 grupos\n",
    "x,y = frdd.histogram(10)\n",
    "\n",
    "print(\"x: \", x)\n",
    "print(\"y: \", y)\n",
    "\n",
    "# Limpia la gráfica\n",
    "plt.gcf().clear()\n",
    "\n",
    "plt.bar(x[:-1], y, width=0.6)\n",
    "plt.xlabel(u'Valores')\n",
    "plt.ylabel(u'Número de ocurrencias')\n",
    "plt.title(u'Histograma')\n",
    "\n",
    "plt.show()"
   ]
  },
  {
   "cell_type": "markdown",
   "metadata": {},
   "source": [
    "### Ejemplo práctico\n",
    "\n",
    "Número de patentes por año de un país"
   ]
  },
  {
   "cell_type": "code",
   "execution_count": 3,
   "metadata": {
    "scrolled": true
   },
   "outputs": [
    {
     "name": "stdout",
     "output_type": "stream",
     "text": [
      "['\"PATENT\",\"GYEAR\",\"GDATE\",\"APPYEAR\",\"COUNTRY\",\"POSTATE\",\"ASSIGNEE\",\"ASSCODE\",\"CLAIMS\",\"NCLASS\",\"CAT\",\"SUBCAT\",\"CMADE\",\"CRECEIVE\",\"RATIOCIT\",\"GENERAL\",\"ORIGINAL\",\"FWDAPLAG\",\"BCKGTLAG\",\"SELFCTUB\",\"SELFCTLB\",\"SECDUPBD\",\"SECDLWBD\"']\n",
      "['6009554,1999,14606,1997,\"US\",\"NY\",219390,2,,714,2,22,9,0,1,,,,12.7778,0.1111,0.1111,,']\n"
     ]
    }
   ],
   "source": [
    "import numpy as np\n",
    "import matplotlib.pyplot as plt; plt.rcdefaults()\n",
    "import matplotlib.pyplot as plt\n",
    "from operator import add\n",
    "    \n",
    "# Lee los datos como un rdd\n",
    "rdd = sc.textFile(\"data/apat63_99.txt\")\n",
    "print(rdd.take(1))\n",
    "print(rdd.top(1))\n"
   ]
  },
  {
   "cell_type": "code",
   "execution_count": 4,
   "metadata": {},
   "outputs": [
    {
     "name": "stdout",
     "output_type": "stream",
     "text": [
      "Media de patentes entre el año 1963 y el 1999 = 48242.94594594595\n"
     ]
    },
    {
     "data": {
      "image/png": "[encoded data removed]",
      "text/plain": [
       "<matplotlib.figure.Figure at 0x7f5f78fd04a8>"
      ]
     },
     "metadata": {},
     "output_type": "display_data"
    }
   ],
   "source": [
    "# Obtiene un rdd que nos proporcione, para las patentes \"US\" el número de \n",
    "# patentes por año (año, número_de_patentes) ordenadas por año\n",
    "yearNum = rdd.filter(lambda l: '\"US\"' in l).\\\n",
    "              map(lambda l: l.split(',')).\\\n",
    "              map(lambda l: (l[1], 1)).\\\n",
    "              reduceByKey(add)\n",
    "              \n",
    "yearNum.take(5)\n",
    "\n",
    "# Calcula la media del número de patentes\n",
    "media = yearNum.values().mean()\n",
    "\n",
    "print(\"Media de patentes entre el año {0} y el {1} = {2}\".format(\n",
    "       yearNum.keys().min(),\n",
    "       yearNum.keys().max(),\n",
    "       media\n",
    "       ))\n",
    "\n",
    "# Crea el gráfico\n",
    "# Obtén los años como una lista\n",
    "years = yearNum.keys().collect()\n",
    "# Obtén el número de patentes como una lista\n",
    "numPats = yearNum.values().collect()\n",
    "\n",
    "# Descomentar para gráfica\n",
    "plt.gcf().clear() \n",
    "yearsRange = np.arange(len(years))\n",
    "plt.bar(yearsRange, numPats, align='center')\n",
    "plt.xticks(yearsRange, years, fontsize=10, rotation=90)\n",
    "plt.ylabel(\"N Patentes\")\n",
    "plt.show()"
   ]
  },
  {
   "cell_type": "code",
   "execution_count": null,
   "metadata": {},
   "outputs": [],
   "source": []
  }
 ],
 "metadata": {
  "kernelspec": {
   "display_name": "Python 3",
   "language": "python",
   "name": "python3"
  },
  "language_info": {
   "codemirror_mode": {
    "name": "ipython",
    "version": 3
   },
   "file_extension": ".py",
   "mimetype": "text/x-python",
   "name": "python",
   "nbconvert_exporter": "python",
   "pygments_lexer": "ipython3",
   "version": "3.5.2"
  }
 },
 "nbformat": 4,
 "nbformat_minor": 2
}
