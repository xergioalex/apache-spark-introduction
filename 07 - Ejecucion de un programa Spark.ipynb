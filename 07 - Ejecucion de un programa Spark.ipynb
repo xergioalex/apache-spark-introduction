{
 "cells": [
  {
   "cell_type": "markdown",
   "metadata": {},
   "source": [
    "![RDD key pair](media/07.spark_statestore_files.png)"
   ]
  },
  {
   "cell_type": "markdown",
   "metadata": {},
   "source": [
    "### Ejecución de un programa Spark\n",
    "\n",
    "#### Comando `spark-submit`\n",
    "\n",
    "-   Permite lanzar programas Spark a un cluster\n",
    "\n",
    "-   Ejemplo:\n",
    "```sh\n",
    "$ bin/spark-submit --master yarn --deploy-mode cluster \\  \n",
    "     --py-files otralib.zip,otrofich.py \\  \n",
    "     --num-executors 10 --executor-cores 2 \\  \n",
    "     mi-script.py opciones_del_script\n",
    "```\n",
    "\n",
    "#### Opciones de `spark-submit`\n",
    "\n",
    "-   `master`: cluster manager a usar (opciones: `yarn`, `mesos://host:port`, `spark://host:port`, `local[n]`)\n",
    "\n",
    "-   `deploy-mode`: dos modos de despliegue\n",
    "\n",
    "    -   `client`: ejecuta el driver en el nodo local\n",
    "\n",
    "    -   `cluster`: ejecuta el driver en un nodo del cluster\n",
    "\n",
    "-   `class`: clase a ejecutar (Java o Scala)\n",
    "\n",
    "-   `name`: nombre de la aplicación (se muestra en el Spark web)\n",
    "\n",
    "-   `jars`: ficheros jar a añadir al classpath (Java o Scala)\n",
    "\n",
    "-   `py-files`: archivos a añadir al PYTHONPATH (`.py`,`.zip`,`.egg`)\n",
    "\n",
    "-   `files`: ficheros de datos para la aplicación\n",
    "\n",
    "-   `executor-memory`: memoria total de cada ejecutor\n",
    "\n",
    "-   `driver-memory`: memoria del proceso driver\n",
    "\n",
    "Para más opciones: `spark-submit --help`"
   ]
  },
  {
   "cell_type": "code",
   "execution_count": 1,
   "metadata": {},
   "outputs": [
    {
     "name": "stdout",
     "output_type": "stream",
     "text": [
      "Requirement already satisfied: pyspark in /home/xergioalex/Envs/tensorflow/lib/python3.5/site-packages\n",
      "Requirement already satisfied: py4j==0.10.7 in /home/xergioalex/Envs/tensorflow/lib/python3.5/site-packages (from pyspark)\n",
      "\u001b[33mYou are using pip version 9.0.1, however version 18.0 is available.\n",
      "You should consider upgrading via the 'pip install --upgrade pip' command.\u001b[0m\n"
     ]
    }
   ],
   "source": [
    "!pip install pyspark"
   ]
  },
  {
   "cell_type": "code",
   "execution_count": 4,
   "metadata": {},
   "outputs": [],
   "source": [
    "# Create apache spark context\n",
    "from pyspark import SparkContext\n",
    "sc = SparkContext(master=\"local\", appName=\"Mi app\")"
   ]
  },
  {
   "cell_type": "code",
   "execution_count": 13,
   "metadata": {},
   "outputs": [],
   "source": [
    "# Stop apache spark context\n",
    "sc.stop()"
   ]
  },
  {
   "cell_type": "markdown",
   "metadata": {},
   "source": [
    "# Installation\n",
    "\n",
    "Following this two guides:\n",
    "- https://www.tutorialspoint.com/apache_spark/apache_spark_installation.htm\n",
    "- https://www.linode.com/docs/databases/hadoop/install-configure-run-spark-on-top-of-hadoop-yarn-cluster/\n",
    "- https://github.com/big-data-europe/docker-spark"
   ]
  },
  {
   "cell_type": "code",
   "execution_count": null,
   "metadata": {},
   "outputs": [],
   "source": []
  }
 ],
 "metadata": {
  "kernelspec": {
   "display_name": "Python 3",
   "language": "python",
   "name": "python3"
  },
  "language_info": {
   "codemirror_mode": {
    "name": "ipython",
    "version": 3
   },
   "file_extension": ".py",
   "mimetype": "text/x-python",
   "name": "python",
   "nbconvert_exporter": "python",
   "pygments_lexer": "ipython3",
   "version": "3.5.2"
  }
 },
 "nbformat": 4,
 "nbformat_minor": 2
}
